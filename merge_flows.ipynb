{
  "nbformat": 4,
  "nbformat_minor": 0,
  "metadata": {
    "colab": {
      "provenance": [],
      "include_colab_link": true
    },
    "kernelspec": {
      "name": "python3",
      "display_name": "Python 3"
    },
    "language_info": {
      "name": "python"
    }
  },
  "cells": [
    {
      "cell_type": "markdown",
      "metadata": {
        "id": "view-in-github",
        "colab_type": "text"
      },
      "source": [
        "<a href=\"https://colab.research.google.com/github/leakysam/merge-data-in-different-datasets/blob/main/merge_flows.ipynb\" target=\"_parent\"><img src=\"https://colab.research.google.com/assets/colab-badge.svg\" alt=\"Open In Colab\"/></a>"
      ]
    },
    {
      "cell_type": "code",
      "source": [
        "import pandas as pd\n",
        "\n",
        "# Load hubs data from CSV (contains country_id)\n",
        "hubs_file = \"/content/Hubs Updated without hub id site.csv\"\n",
        "hubs_df = pd.read_csv(hubs_file)\n",
        "\n",
        "# Load country lookup data\n",
        "country_file = \"/content/csvjson.csv\"  # replace with the actual path of the country lookup file\n",
        "country_df = pd.read_csv(country_file)\n",
        "\n",
        "# Load flows data from Excel\n",
        "flows_file = \"/content/FLOW MAP WORKING PERSONAL (Copy).xlsx\"\n",
        "flows_df = pd.read_excel(flows_file)\n",
        "\n",
        "# Debugging: Check column names\n",
        "print(\"Hubs columns:\", hubs_df.columns)\n",
        "print(\"Country columns:\", country_df.columns)\n",
        "print(\"Flows columns:\", flows_df.columns)\n",
        "\n",
        "# Strip column names to remove any spaces\n",
        "hubs_df.rename(columns=lambda x: x.strip(), inplace=True)\n",
        "country_df.rename(columns=lambda x: x.strip(), inplace=True)\n",
        "flows_df.rename(columns=lambda x: x.strip(), inplace=True)\n",
        "\n",
        "# Merge country names into hubs_df using country_id\n",
        "hubs_df = hubs_df.merge(country_df, how=\"left\", left_on=\"country_id\", right_on=\"country_id\").rename(\n",
        "    columns={\"name\": \"country_name\"}  # Rename country to country_name\n",
        ").drop(columns=[\"country_id\"])\n",
        "\n",
        "# Merge hubs information for `from_id`\n",
        "flows_df = flows_df.merge(hubs_df, how=\"left\", left_on=\"from_id\", right_on=\"id\").rename(\n",
        "    columns={\n",
        "        \"name\": \"from_name\",\n",
        "        \"country_name\": \"from_country\",\n",
        "        \"coordinates\": \"from_coordinates\"\n",
        "    }\n",
        ").drop(columns=[\"id\"])\n",
        "\n",
        "# Merge hubs information for `to_id`\n",
        "flows_df = flows_df.merge(hubs_df, how=\"left\", left_on=\"to_id\", right_on=\"id\").rename(\n",
        "    columns={\n",
        "        \"name\": \"to_name\",\n",
        "        \"country_name\": \"to_country\",\n",
        "        \"coordinates\": \"to_coordinates\"\n",
        "    }\n",
        ").drop(columns=[\"id\"])\n",
        "\n",
        "# Save the enriched flows file\n",
        "flows_df.to_excel(\"flows_with_country_name.xlsx\", index=False)\n",
        "\n",
        "# Print the enriched flows DataFrame to verify\n",
        "print(flows_df)\n"
      ],
      "metadata": {
        "colab": {
          "base_uri": "https://localhost:8080/"
        },
        "id": "ws9JwmBJ34Fi",
        "outputId": "75bb4996-fb21-4ee1-b17f-647124026247"
      },
      "execution_count": null,
      "outputs": [
        {
          "output_type": "stream",
          "name": "stdout",
          "text": [
            "Hubs columns: Index(['id', 'name', 'country_id', 'coordinates', 'Unnamed: 4'], dtype='object')\n",
            "Country columns: Index(['country_id', 'name', 'code', 'emoji', 'hasFlowMapData',\n",
            "       'hasParitiesData', 'hasPriceData', 'region', 'currency', 'hasForexData',\n",
            "       'subRegion', 'color', 'vat'],\n",
            "      dtype='object')\n",
            "Flows columns: Index(['hqw', 'lqw', 'vhp', 'br', 'year', 'flow_sum', 'from_id', 'to_id',\n",
            "       'flow_type_id', 'Unnamed: 9'],\n",
            "      dtype='object')\n",
            "           hqw       lqw  vhp   br  year  flow_sum  from_id  to_id  \\\n",
            "0      34500.0       0.0  0.0  0.0  2020   34500.0       61      1   \n",
            "1      15500.0       0.0  0.0  0.0  2020   15500.0      102      1   \n",
            "2       7000.0       0.0  0.0  0.0  2020    7000.0        1      2   \n",
            "3          0.0   43500.0  0.0  0.0  2020   43500.0       61      3   \n",
            "4     238000.0  102500.0  0.0  0.0  2020  340500.0       79      3   \n",
            "...        ...       ...  ...  ...   ...       ...      ...    ...   \n",
            "3329    1500.0       NaN  NaN  NaN  2024       NaN       47     17   \n",
            "3330    4154.0       NaN  NaN  NaN  2024       NaN       47     35   \n",
            "3331    8000.0    3000.0  NaN  NaN  2024       NaN       47     41   \n",
            "3332    5000.0    3000.0  NaN  NaN  2024       NaN       47     42   \n",
            "3333   10000.0    3000.0  NaN  NaN  2024       NaN       47     43   \n",
            "\n",
            "      flow_type_id Unnamed: 9  ... emoji_y hasFlowMapData_y hasParitiesData_y  \\\n",
            "0                5        NaN  ...      🇪🇷             True             False   \n",
            "1                5        NaN  ...      🇪🇷             True             False   \n",
            "2                2        NaN  ...      🇪🇹             True              True   \n",
            "3                5        NaN  ...      🇩🇯             True              True   \n",
            "4                5        NaN  ...      🇩🇯             True              True   \n",
            "...            ...        ...  ...     ...              ...               ...   \n",
            "3329             1        NaN  ...      🇲🇼             True             False   \n",
            "3330             1        NaN  ...      🇷🇼             True              True   \n",
            "3331             1        NaN  ...      🇲🇬             True             False   \n",
            "3332             1        NaN  ...      🇲🇬             True             False   \n",
            "3333             1        NaN  ...      🇲🇬             True             False   \n",
            "\n",
            "     hasPriceData_y region_y currency_y  hasForexData_y  subRegion_y  color_y  \\\n",
            "0             False      1.0        ETB           False          2.0  #2a8709   \n",
            "1             False      1.0        ETB           False          2.0  #2a8709   \n",
            "2              True      1.0        ETB            True          2.0  #090368   \n",
            "3              True      1.0        DJF           False          2.0  #5a037f   \n",
            "4              True      1.0        DJF           False          2.0  #5a037f   \n",
            "...             ...      ...        ...             ...          ...      ...   \n",
            "3329          False      1.0        MWK            True          3.0  #990409   \n",
            "3330           True      1.0        RWF            True          2.0  #890135   \n",
            "3331          False      1.0        MGA           False          2.0  #0d918f   \n",
            "3332          False      1.0        MGA           False          2.0  #0d918f   \n",
            "3333          False      1.0        MGA           False          2.0  #0d918f   \n",
            "\n",
            "      vat_y  \n",
            "0       NaN  \n",
            "1       NaN  \n",
            "2      15.0  \n",
            "3       0.0  \n",
            "4       0.0  \n",
            "...     ...  \n",
            "3329    NaN  \n",
            "3330   18.0  \n",
            "3331    NaN  \n",
            "3332    NaN  \n",
            "3333    NaN  \n",
            "\n",
            "[3334 rows x 40 columns]\n"
          ]
        }
      ]
    },
    {
      "cell_type": "code",
      "source": [
        "import pandas as pd\n",
        "\n",
        "# Replace with your actual file path\n",
        "file_path = \"/content/flows_with_country_name.xlsx\"\n",
        "\n",
        "# Create DataFrame by reading the Excel file\n",
        "df = pd.read_excel(file_path)\n",
        "\n",
        "# Divide the flow sums by 12 (assuming the values in hqw, lqw, vhp, and br are annual totals)\n",
        "df['hqw'] = df['hqw'] / 12\n",
        "df['lqw'] = df['lqw'] / 12\n",
        "df['vhp'] = df['vhp'] / 12\n",
        "df['br'] = df['br'] / 12\n",
        "\n",
        "# Create a 'Month' column with 12 months for each year\n",
        "months = ['January', 'February', 'March', 'April', 'May', 'June', 'July', 'August', 'September', 'October', 'November', 'December']\n",
        "\n",
        "# Create an empty list to collect the final data\n",
        "final_data = []\n",
        "\n",
        "# Loop through each row in the DataFrame to create 12 rows for each entry (one for each month)\n",
        "for _, row in df.iterrows():\n",
        "    for month in months:\n",
        "        # Create a dictionary for each row\n",
        "        new_row = {\n",
        "            'Year': row['year'],\n",
        "            'Month': month,\n",
        "            'Destination': row['name_y_y'],\n",
        "            'Origin': row['name_y_x'],\n",
        "            'Quantity': row[['hqw', 'lqw', 'vhp', 'br']].max(),  # Use the max of the flow values for Quantity\n",
        "            'Grade': row[['hqw', 'lqw', 'vhp', 'br']].idxmax()  # Find the column name with the highest value for Grade\n",
        "        }\n",
        "        final_data.append(new_row)\n",
        "\n",
        "# Create a new DataFrame with the formatted data\n",
        "formatted_df = pd.DataFrame(final_data)\n",
        "\n",
        "# Save the formatted DataFrame to an Excel file\n",
        "formatted_df.to_excel(\"formatted_enriched_flows.xlsx\", index=False)\n",
        "\n",
        "# Display the final DataFrame\n",
        "print(formatted_df)\n"
      ],
      "metadata": {
        "colab": {
          "base_uri": "https://localhost:8080/"
        },
        "id": "Vw9OPqqc5EQB",
        "outputId": "cb4aecd6-22ea-4620-ee53-b9b81ce6a57e"
      },
      "execution_count": null,
      "outputs": [
        {
          "output_type": "stream",
          "name": "stdout",
          "text": [
            "       Year      Month Destination        Origin     Quantity Grade\n",
            "0      2020    January     Eritrea        Brazil  2875.000000   hqw\n",
            "1      2020   February     Eritrea        Brazil  2875.000000   hqw\n",
            "2      2020      March     Eritrea        Brazil  2875.000000   hqw\n",
            "3      2020      April     Eritrea        Brazil  2875.000000   hqw\n",
            "4      2020        May     Eritrea        Brazil  2875.000000   hqw\n",
            "...     ...        ...         ...           ...          ...   ...\n",
            "40003  2024     August  Madagascar  South Africa   833.333333   hqw\n",
            "40004  2024  September  Madagascar  South Africa   833.333333   hqw\n",
            "40005  2024    October  Madagascar  South Africa   833.333333   hqw\n",
            "40006  2024   November  Madagascar  South Africa   833.333333   hqw\n",
            "40007  2024   December  Madagascar  South Africa   833.333333   hqw\n",
            "\n",
            "[40008 rows x 6 columns]\n"
          ]
        }
      ]
    },
    {
      "cell_type": "code",
      "source": [
        "import pandas as pd\n",
        "\n",
        "# Sample input data (replace with your actual file read if necessary)\n",
        "data = \"/content/formatted_enriched_flows.xlsx\"\n",
        "\n",
        "# Create DataFrame\n",
        "df = pd.read_excel(data)\n",
        "\n",
        "# Group by 'Year', 'Origin', 'Destination', and 'Grade' and sum the quantities\n",
        "df_grouped = df.groupby(['Year', 'Origin', 'Destination', 'Grade'], as_index=False)['Quantity'].sum()\n",
        "\n",
        "# Divide the summed quantities by 12 to get monthly values\n",
        "df_grouped['Quantity'] = df_grouped['Quantity'] / 12\n",
        "\n",
        "# Create the 'Month' column to repeat each row for each month of the year\n",
        "months = ['January', 'February', 'March', 'April', 'May', 'June', 'July', 'August', 'September', 'October', 'November', 'December']\n",
        "expanded_data = []\n",
        "\n",
        "for _, row in df_grouped.iterrows():\n",
        "    for month in months:\n",
        "        new_row = row.copy()\n",
        "        new_row['Month'] = month\n",
        "        expanded_data.append(new_row)\n",
        "\n",
        "# Create a new DataFrame with the expanded data\n",
        "final_df = pd.DataFrame(expanded_data)\n",
        "\n",
        "# Save the formatted DataFrame to a CSV\n",
        "final_df.to_excel(\"final_enriched_flows_with_months.xlsx\", index=False)\n",
        "\n",
        "# Display the final DataFrame\n",
        "print(final_df)\n"
      ],
      "metadata": {
        "colab": {
          "base_uri": "https://localhost:8080/"
        },
        "id": "xrYzG93O8FA9",
        "outputId": "b52478d0-db34-426d-e982-47ddcd959afb"
      },
      "execution_count": null,
      "outputs": [
        {
          "output_type": "stream",
          "name": "stdout",
          "text": [
            "      Year    Origin    Destination Grade     Quantity      Month\n",
            "0     2018   Algeria         France   hqw  1593.166667    January\n",
            "0     2018   Algeria         France   hqw  1593.166667   February\n",
            "0     2018   Algeria         France   hqw  1593.166667      March\n",
            "0     2018   Algeria         France   hqw  1593.166667      April\n",
            "0     2018   Algeria         France   hqw  1593.166667        May\n",
            "...    ...       ...            ...   ...          ...        ...\n",
            "3162  2024  Zimbabwe  United States    br  1075.833333     August\n",
            "3162  2024  Zimbabwe  United States    br  1075.833333  September\n",
            "3162  2024  Zimbabwe  United States    br  1075.833333    October\n",
            "3162  2024  Zimbabwe  United States    br  1075.833333   November\n",
            "3162  2024  Zimbabwe  United States    br  1075.833333   December\n",
            "\n",
            "[37956 rows x 6 columns]\n"
          ]
        }
      ]
    },
    {
      "cell_type": "code",
      "source": [],
      "metadata": {
        "id": "0V5xvnY9A2ld"
      },
      "execution_count": null,
      "outputs": []
    }
  ]
}